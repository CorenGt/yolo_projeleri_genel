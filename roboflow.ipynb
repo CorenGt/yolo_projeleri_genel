{
 "cells": [
  {
   "cell_type": "code",
   "execution_count": null,
   "id": "ad778aa0",
   "metadata": {},
   "outputs": [],
   "source": [
    "from roboflow import Roboflow\n",
    "rf = Roboflow(api_key=\"esEt1kyo\")\n",
    "project = rf.workspace(\"roboflow-58fyf\").project(\"rock-paper-scissors-sxsw\")\n",
    "version = project.version(14)\n",
    "dataset = version.download(\"yolov8\")"
   ]
  },
  {
   "cell_type": "code",
   "execution_count": null,
   "id": "9b185bcb",
   "metadata": {},
   "outputs": [],
   "source": [
    "from ultralytics import YOLO\n",
    "\n",
    "model = YOLO(\"yolov8n.pt\")\n",
    "\n",
    "dataset_path = r\"C:\\Users\\Batu\\Documents\\yolo_denemeleri\\rock-paper-scissors-14\\data.yaml\"\n",
    "\n",
    "model.train(\n",
    "    data=dataset_path,\n",
    "    epochs = 50,\n",
    "    imgsz=640,\n",
    "    batch=16,\n",
    "    device=\"cpu\"\n",
    ")"
   ]
  }
 ],
 "metadata": {
  "kernelspec": {
   "display_name": "Python 3",
   "language": "python",
   "name": "python3"
  },
  "language_info": {
   "codemirror_mode": {
    "name": "ipython",
    "version": 3
   },
   "file_extension": ".py",
   "mimetype": "text/x-python",
   "name": "python",
   "nbconvert_exporter": "python",
   "pygments_lexer": "ipython3",
   "version": "3.10.0"
  }
 },
 "nbformat": 4,
 "nbformat_minor": 5
}
